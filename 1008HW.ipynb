{
 "cells": [
  {
   "cell_type": "markdown",
   "metadata": {},
   "source": [
    "# 作業一：\n",
    "### 告訴我你想吃東西，我幫你隨機挑選食物"
   ]
  },
  {
   "cell_type": "code",
   "execution_count": null,
   "metadata": {},
   "outputs": [],
   "source": [
    "%matplotlib inline\n",
    "\n",
    "import numpy as np\n",
    "import matplotlib.pyplot as plt\n",
    "import pandas as pd"
   ]
  },
  {
   "cell_type": "code",
   "execution_count": null,
   "metadata": {},
   "outputs": [],
   "source": [
    "from numpy.random import choice"
   ]
  },
  {
   "cell_type": "code",
   "execution_count": null,
   "metadata": {},
   "outputs": [],
   "source": [
    "import random"
   ]
  },
  {
   "cell_type": "code",
   "execution_count": null,
   "metadata": {},
   "outputs": [],
   "source": [
    "foodlist=[\"合菜\",\"炒飯炒麵\",\"便當\",\"羹湯\",\"和風沙拉\",\"起司炸雞\",\"丼飯\",\"壽司\",\"泡菜鍋\",\"韓式飯捲\",\"海鮮煎餅\",\"辣泡麵\",\"漢堡\",\"薯條\",\"BBQ薄餅\"]\n"
   ]
  },
  {
   "cell_type": "code",
   "execution_count": null,
   "metadata": {},
   "outputs": [],
   "source": [
    "answer=input('請輸入我想吃東西：')\n",
    "\n",
    "print(random.choice(foodlist))\n"
   ]
  },
  {
   "cell_type": "markdown",
   "metadata": {},
   "source": [
    "# 作業二：\n",
    "### 美元換算成台幣"
   ]
  },
  {
   "cell_type": "code",
   "execution_count": null,
   "metadata": {},
   "outputs": [],
   "source": [
    "money=input('請輸入美元：')\n",
    "\n",
    "money = float(money)\n",
    "print(money)\n",
    "print('US',money,'=','TWD',money*31)"
   ]
  },
  {
   "cell_type": "markdown",
   "metadata": {},
   "source": [
    "# 作業三：\n",
    "### 跟電腦玩猜數字"
   ]
  },
  {
   "cell_type": "code",
   "execution_count": null,
   "metadata": {
    "scrolled": false
   },
   "outputs": [],
   "source": [
    "%pylab inline\n",
    "import numpy as np"
   ]
  },
  {
   "cell_type": "code",
   "execution_count": null,
   "metadata": {
    "scrolled": true
   },
   "outputs": [],
   "source": [
    "n = randint(1,101)\n",
    "m = \"\"\n",
    "\n",
    "while(True):\n",
    "    m=input('請猜0-100其中一個數字：')\n",
    "    \n",
    "    if int(m)>n:\n",
    "        print('再猜小一點')\n",
    "        \n",
    "    elif int(m)<n:\n",
    "        print('再猜大一點')\n",
    "        \n",
    "    elif int(m) == n:\n",
    "        print('恭喜猜中')\n",
    "        break\n"
   ]
  },
  {
   "cell_type": "markdown",
   "metadata": {},
   "source": [
    "# 作業四：\n",
    "### 計算山頂氣溫"
   ]
  },
  {
   "cell_type": "code",
   "execution_count": null,
   "metadata": {},
   "outputs": [],
   "source": [
    "print('夏天，每上升100公尺氣溫下降1度 ; 冬天，每上升100公尺氣溫下降0.6度')\n",
    "\n",
    "height=input('請輸入山的高度：')\n",
    "height = float(height)\n",
    "temperature = input('請輸入現在的溫度：')\n",
    "temperature = float(temperature)\n",
    "weather=input('請輸入現在的季節是夏天/冬天：')\n",
    "\n",
    "if weather == '夏天':\n",
    "    print(temperature-(height/100)*1)\n",
    "    \n",
    "if weather == '冬天':\n",
    "    print(temperature-(height/100)*0.6)"
   ]
  }
 ],
 "metadata": {
  "kernelspec": {
   "display_name": "Python 3",
   "language": "python",
   "name": "python3"
  },
  "language_info": {
   "codemirror_mode": {
    "name": "ipython",
    "version": 3
   },
   "file_extension": ".py",
   "mimetype": "text/x-python",
   "name": "python",
   "nbconvert_exporter": "python",
   "pygments_lexer": "ipython3",
   "version": "3.7.0"
  }
 },
 "nbformat": 4,
 "nbformat_minor": 2
}
